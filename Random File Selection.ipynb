{
 "cells": [
  {
   "cell_type": "code",
   "execution_count": 10,
   "id": "563f6fd6",
   "metadata": {},
   "outputs": [],
   "source": [
    "import os, random, shutil\n",
    "\n",
    "source_OK = r\"Data_Pool\\OK\"\n",
    "destination_OK = r\"Validation\\OK\"\n",
    "no_of_files_OK = 200"
   ]
  },
  {
   "cell_type": "code",
   "execution_count": 11,
   "id": "43f27fb0",
   "metadata": {},
   "outputs": [],
   "source": [
    "# Delete all OK files in Validation directory\n",
    "shutil.rmtree(destination_OK)\n",
    "os.makedirs(destination_OK)"
   ]
  },
  {
   "cell_type": "code",
   "execution_count": 12,
   "id": "d6a5ec9c",
   "metadata": {},
   "outputs": [
    {
     "name": "stdout",
     "output_type": "stream",
     "text": [
      "==============================[ Details Of Transfer ]==============================\n",
      "\n",
      "\n",
      "List of OK Files Copied to Validation\\OK :\n",
      
      "\n",
      "\n",
      "===========================[ OK Files Copied Successfully ]===========================\n"
     ]
    }
   ],
   "source": [
    "print(\"=\"*30 + \"[ Details Of Transfer ]\" + \"=\"*30)\n",
    "print(\"\\n\\nList of OK Files Copied to %s :\"%(destination_OK))\n",
    "\n",
    "# Using for loop to randomly choose multiple files\n",
    "for i in range(no_of_files_OK):\n",
    "    # Variable random_file stores the name of the random file chosen\n",
    "    random_file_OK = random.choice(os.listdir(source_OK))\n",
    "    print(\"%d} %s\"%(i+1, random_file_OK))\n",
    "    source_file_OK = \"%s\\%s\"%(source_OK, random_file_OK)\n",
    "    dest_file_OK = destination_OK\n",
    "    # \"shutil.move\" function copies file from one directory to another\n",
    "    shutil.move(source_file_OK, destination_OK)\n",
    "\n",
    "print(\"\\n\\n\" + \"=\"*27 + \"[ OK Files Copied Successfully ]\" + \"=\"*27)"
   ]
  },
  {
   "cell_type": "code",
   "execution_count": 13,
   "id": "28c5d0ba",
   "metadata": {},
   "outputs": [
    {
     "data": {
      "text/plain": [
       "['
      ]
     },
     "execution_count": 13,
     "metadata": {},
     "output_type": "execute_result"
    }
   ],
   "source": [
    "from distutils.dir_util import copy_tree\n",
    "\n",
    "copy_tree(destination_OK, source_OK)"
   ]
  },
  {
   "cell_type": "code",
   "execution_count": 14,
   "id": "e9e3224f",
   "metadata": {},
   "outputs": [],
   "source": [
    "source_NG = r\"Data_Pool\\NG\"\n",
    "destination_NG = r\"Validation\\NG\"\n",
    "no_of_files_NG = 200"
   ]
  },
  {
   "cell_type": "code",
   "execution_count": 15,
   "id": "4172e88f",
   "metadata": {},
   "outputs": [],
   "source": [
    "# Delete all NG files in Validation directory\n",
    "shutil.rmtree(destination_NG)\n",
    "os.makedirs(destination_NG)"
   ]
  },
  {
   "cell_type": "code",
   "execution_count": 16,
   "id": "c0409d99",
   "metadata": {},
   "outputs": [
    {
     "name": "stdout",
     "output_type": "stream",
     "text": [
      "==============================[ Details Of Transfer ]==============================\n",
      "\n",
      "\n",
      "List of NG Files Copied to Validation\\NG :\n",
      ,
      "\n",
      "\n",
      "===========================[ NG Files Copied Successfully ]===========================\n"
     ]
    }
   ],
   "source": [
    "print(\"=\"*30 + \"[ Details Of Transfer ]\" + \"=\"*30)\n",
    "print(\"\\n\\nList of NG Files Copied to %s :\"%(destination_NG))\n",
    "\n",
    "# Using for loop to randomly choose multiple files\n",
    "for i in range(no_of_files_NG):\n",
    "    # Variable random_file stores the name of the random file chosen\n",
    "    random_file_NG = random.choice(os.listdir(source_NG))\n",
    "    print(\"%d} %s\"%(i+1, random_file_NG))\n",
    "    source_file_NG = \"%s\\%s\"%(source_NG, random_file_NG)\n",
    "    dest_file_NG = destination_NG\n",
    "    # \"shutil.move\" function moves file from one directory to another\n",
    "    shutil.move(source_file_NG, destination_NG)\n",
    "\n",
    "print(\"\\n\\n\" + \"=\"*27 + \"[ NG Files Copied Successfully ]\" + \"=\"*27)"
   ]
  },
  {
   "cell_type": "code",
   "execution_count": 17,
   "id": "a2e46507",
   "metadata": {},
   "outputs": [
    {
     "data": {
      "text/plain": [
       "[']"
      ]
     },
     "execution_count": 17,
     "metadata": {},
     "output_type": "execute_result"
    }
   ],
   "source": [
    "from distutils.dir_util import copy_tree\n",
    "\n",
    "copy_tree(destination_NG, source_NG)"
   ]
  },
  {
   "cell_type": "code",
   "execution_count": null,
   "id": "e877895f",
   "metadata": {},
   "outputs": [],
   "source": []
  }
 ],
 "metadata": {
  "kernelspec": {
   "display_name": "Python 3 (ipykernel)",
   "language": "python",
   "name": "python3"
  },
  "language_info": {
   "codemirror_mode": {
    "name": "ipython",
    "version": 3
   },
   "file_extension": ".py",
   "mimetype": "text/x-python",
   "name": "python",
   "nbconvert_exporter": "python",
   "pygments_lexer": "ipython3",
   "version": "3.9.7"
  }
 },
 "nbformat": 4,
 "nbformat_minor": 5
}
